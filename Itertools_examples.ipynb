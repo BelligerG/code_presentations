{
 "cells": [
  {
   "cell_type": "code",
   "execution_count": 2,
   "id": "150d6578-ab6b-4c4f-be7b-9c0b3d1ecb5e",
   "metadata": {},
   "outputs": [],
   "source": [
    "from pprint import pprint"
   ]
  },
  {
   "cell_type": "markdown",
   "id": "61ba6f41-aaa0-48d4-81e9-36fa19f63afa",
   "metadata": {},
   "source": [
    "# itertools\n",
    "\n",
    "## What are itertools?\n",
    "\n",
    "[itertools](https://docs.python.org/3.7/library/itertools.html) is a python module included in standard python. The documentation describes them as:\n",
    "\n",
    "> The module standardizes a core set of fast, memory efficient tools that are useful by themselves or in combination. Together, they form an “iterator algebra” making it possible to construct specialized tools succinctly and efficiently in pure Python.\n",
    "\n",
    "But essentially it's a module that contains a number of functions that help with iteration!\n",
    "\n",
    "## Why bother with itertools?\n",
    "\n",
    "[zen of python](https://en.wikipedia.org/wiki/Zen_of_Python#:~:text=The%20Zen%20of%20Python%20is,Python%20mailing%20list%20in%201999.)\n",
    "\n",
    ">Flat is better than nested.\n",
    "\n",
    ">Readability counts.\n",
    "\n",
    "### Note\n",
    "\n",
    "I use `[*generator]` a lot here, it just unpacks the whole generator into a list, so we can see everything there, it's equivalent to `[x for x in generator]` (but faster)!\n",
    "\n"
   ]
  },
  {
   "cell_type": "code",
   "execution_count": 3,
   "id": "dce83716-41e1-49ac-bde8-4a85f95ba1f8",
   "metadata": {},
   "outputs": [
    {
     "name": "stdout",
     "output_type": "stream",
     "text": [
      "759 ns ± 0.429 ns per loop (mean ± std. dev. of 7 runs, 1000000 loops each)\n"
     ]
    }
   ],
   "source": [
    "%%timeit\n",
    "[*range(100)]"
   ]
  },
  {
   "cell_type": "code",
   "execution_count": 4,
   "id": "f2dd29df-649f-4b31-ace0-40e89961a72e",
   "metadata": {},
   "outputs": [
    {
     "name": "stdout",
     "output_type": "stream",
     "text": [
      "2.49 µs ± 1.82 ns per loop (mean ± std. dev. of 7 runs, 100000 loops each)\n"
     ]
    }
   ],
   "source": [
    "%%timeit\n",
    "[x for x in range(100)]"
   ]
  },
  {
   "cell_type": "markdown",
   "id": "8231a2cb-aa11-4d12-bdc3-e1fb03541eec",
   "metadata": {},
   "source": [
    "## Example usage\n",
    "\n",
    "The below example has been taken from a real world unittest."
   ]
  },
  {
   "cell_type": "code",
   "execution_count": 5,
   "id": "b6d85d81-a3f6-4f8a-8b4f-a60a80b0b758",
   "metadata": {},
   "outputs": [],
   "source": [
    "# Adapted from a real example\n",
    "obj = [[{\"a\":1, \"b\":2, \"c\":3}], [{\"d\":4, \"e\":5, \"f\":6}], [{\"g\":7, \"h\":8, \"i\":9}]]\n",
    "expected_obj = obj\n",
    "\n",
    "# Triple nested loop!\n",
    "for i, arglists in enumerate(obj):\n",
    "    for j, arglist in enumerate(arglists):\n",
    "        for key, value in expected_obj[i][j].items():\n",
    "            assert value == arglist[key]"
   ]
  },
  {
   "cell_type": "code",
   "execution_count": 6,
   "id": "34aa8fb3-41ab-45fc-b07c-605427ff146d",
   "metadata": {},
   "outputs": [],
   "source": [
    "import itertools\n",
    "\n",
    "zipped_values = itertools.zip_longest(\n",
    "    itertools.chain.from_iterable(obj),\n",
    "    itertools.chain.from_iterable(expected_obj),\n",
    ")\n",
    "for test_value, expected_value in zipped_values:\n",
    "    assert expected_value.items() <= test_value.items()"
   ]
  },
  {
   "cell_type": "markdown",
   "id": "1d3802c6-8bcf-46e6-a6a6-8850b6e1ece2",
   "metadata": {},
   "source": [
    "### Which approach is faster?"
   ]
  },
  {
   "cell_type": "code",
   "execution_count": 7,
   "id": "74a0199f-0274-4800-8628-fa414534b6ba",
   "metadata": {},
   "outputs": [],
   "source": [
    "def func1():\n",
    "    for i, arglists in enumerate(obj):\n",
    "        for j, arglist in enumerate(arglists):\n",
    "            for key, value in expected_obj[i][j].items():\n",
    "                assert value == arglist[key]\n",
    "                \n",
    "def func2():\n",
    "    zipped_values = itertools.zip_longest(\n",
    "        itertools.chain.from_iterable(obj),\n",
    "        itertools.chain.from_iterable(expected_obj),\n",
    "    )\n",
    "    for test_value, expected_value in zipped_values:\n",
    "        assert expected_value.items() <= test_value.items()"
   ]
  },
  {
   "cell_type": "code",
   "execution_count": 8,
   "id": "4d69f398-07df-488c-b7bd-4655b887abfb",
   "metadata": {},
   "outputs": [
    {
     "name": "stdout",
     "output_type": "stream",
     "text": [
      "1.84 µs ± 26.5 ns per loop (mean ± std. dev. of 7 runs, 1000000 loops each)\n"
     ]
    }
   ],
   "source": [
    "%%timeit\n",
    "\n",
    "func1()"
   ]
  },
  {
   "cell_type": "code",
   "execution_count": 9,
   "id": "4b0c5366-b7b9-4e07-a67c-5f5874b73928",
   "metadata": {},
   "outputs": [
    {
     "name": "stdout",
     "output_type": "stream",
     "text": [
      "1.56 µs ± 1.81 ns per loop (mean ± std. dev. of 7 runs, 1000000 loops each)\n"
     ]
    }
   ],
   "source": [
    "%%timeit\n",
    "\n",
    "func2()"
   ]
  },
  {
   "cell_type": "markdown",
   "id": "a60cb679-2fb1-42f2-b04d-a65153459a09",
   "metadata": {},
   "source": [
    "### Breaking it down"
   ]
  },
  {
   "cell_type": "code",
   "execution_count": 10,
   "id": "51c17b5d-7369-44eb-951f-5b4a321a0568",
   "metadata": {},
   "outputs": [
    {
     "data": {
      "text/plain": [
       "[[{'a': 1, 'b': 2, 'c': 3}],\n",
       " [{'d': 4, 'e': 5, 'f': 6}],\n",
       " [{'g': 7, 'h': 8, 'i': 9}]]"
      ]
     },
     "execution_count": 10,
     "metadata": {},
     "output_type": "execute_result"
    }
   ],
   "source": [
    "obj # is a 2d array with each element containing a dict"
   ]
  },
  {
   "cell_type": "markdown",
   "id": "a07de1fa-1853-45f5-9a23-5252edeba042",
   "metadata": {},
   "source": [
    "If we know the format our data structure takes, e.g. we know that obj is a 2D array, we can use `chain.from_iterable` to remove a level."
   ]
  },
  {
   "cell_type": "code",
   "execution_count": 15,
   "id": "9fece826-64ac-4345-a09a-8c1e3efab04f",
   "metadata": {},
   "outputs": [
    {
     "name": "stdout",
     "output_type": "stream",
     "text": [
      "<itertools.chain object at 0x7fc454384710>\n"
     ]
    },
    {
     "data": {
      "text/plain": [
       "[{'a': 1, 'b': 2, 'c': 3}, {'d': 4, 'e': 5, 'f': 6}, {'g': 7, 'h': 8, 'i': 9}]"
      ]
     },
     "execution_count": 15,
     "metadata": {},
     "output_type": "execute_result"
    }
   ],
   "source": [
    "print(itertools.chain.from_iterable(obj)) # generator expression\n",
    "\n",
    "# Note: we can unpack the iterable and just use chain\n",
    "[*itertools.chain.from_iterable(obj)]# == [*itertools.chain(*obj)] "
   ]
  },
  {
   "cell_type": "code",
   "execution_count": 8,
   "id": "f8d93d0c-bea1-4460-bc83-67c31a523010",
   "metadata": {},
   "outputs": [
    {
     "data": {
      "text/plain": [
       "[({'a': 1, 'b': 2, 'c': 3}, {'a': 1, 'b': 2, 'c': 3}),\n",
       " ({'d': 4, 'e': 5, 'f': 6}, {'d': 4, 'e': 5, 'f': 6}),\n",
       " ({'g': 7, 'h': 8, 'i': 9}, {'g': 7, 'h': 8, 'i': 9})]"
      ]
     },
     "execution_count": 8,
     "metadata": {},
     "output_type": "execute_result"
    }
   ],
   "source": [
    "zipped_values = itertools.zip_longest(\n",
    "    itertools.chain.from_iterable(obj),\n",
    "    itertools.chain.from_iterable(expected_obj),\n",
    ")\n",
    "\n",
    "[*zipped_values]"
   ]
  },
  {
   "cell_type": "markdown",
   "id": "021a2863-d449-49a5-8ccf-96efd3aff4e2",
   "metadata": {},
   "source": [
    "Why not just use zip?\n",
    "\n",
    "For this toy example, there'd be no difference:"
   ]
  },
  {
   "cell_type": "code",
   "execution_count": 20,
   "id": "4838a90b-c132-4af1-91d0-72334273b06b",
   "metadata": {},
   "outputs": [
    {
     "data": {
      "text/plain": [
       "[({'a': 1, 'b': 2, 'c': 3}, {'a': 1, 'b': 2, 'c': 3}),\n",
       " ({'d': 4, 'e': 5, 'f': 6}, {'d': 4, 'e': 5, 'f': 6}),\n",
       " ({'g': 7, 'h': 8, 'i': 9}, {'g': 7, 'h': 8, 'i': 9})]"
      ]
     },
     "execution_count": 20,
     "metadata": {},
     "output_type": "execute_result"
    }
   ],
   "source": [
    "zipped_values = zip(\n",
    "    itertools.chain.from_iterable(obj),\n",
    "    itertools.chain.from_iterable(expected_obj),\n",
    ")\n",
    "\n",
    "[*zipped_values]"
   ]
  },
  {
   "cell_type": "markdown",
   "id": "9604c859-d953-4032-84c3-c51a1feba5d1",
   "metadata": {},
   "source": [
    "But in a real example, our test output may be a different length to the expected output:"
   ]
  },
  {
   "cell_type": "code",
   "execution_count": 10,
   "id": "e9347550-e7d8-4d84-9377-63609dd1a9e2",
   "metadata": {},
   "outputs": [
    {
     "name": "stdout",
     "output_type": "stream",
     "text": [
      "Test results match the expected: True\n"
     ]
    },
    {
     "data": {
      "text/plain": [
       "[(1, 1), (2, 2), (3, 3)]"
      ]
     },
     "execution_count": 10,
     "metadata": {},
     "output_type": "execute_result"
    }
   ],
   "source": [
    "test_result = [1, 2, 3]\n",
    "expected_result = [1, 2, 3, 4, 5]\n",
    "\n",
    "print(f\"Test results match the expected: {all([i == j for i,j in zip(test_result, expected_result)])}\")\n",
    "\n",
    "[*zip(test_result, expected_result)]"
   ]
  },
  {
   "cell_type": "code",
   "execution_count": 11,
   "id": "ca785784-c896-43c9-8d61-d4657c849dae",
   "metadata": {},
   "outputs": [
    {
     "name": "stdout",
     "output_type": "stream",
     "text": [
      "Test results match the expected: False\n"
     ]
    },
    {
     "data": {
      "text/plain": [
       "[(1, 1), (2, 2), (3, 3), (None, 4), (None, 5)]"
      ]
     },
     "execution_count": 11,
     "metadata": {},
     "output_type": "execute_result"
    }
   ],
   "source": [
    "zipped_values = itertools.zip_longest(\n",
    "    test_result,\n",
    "    expected_result,\n",
    ")\n",
    "\n",
    "print(f\"Test results match the expected: {all([i == j for i,j in zipped_values])}\")\n",
    "\n",
    "[*itertools.zip_longest(test_result, expected_result)]"
   ]
  },
  {
   "cell_type": "markdown",
   "id": "a6c26b3a-4cee-4899-9d7d-5e5f9dbaf53d",
   "metadata": {},
   "source": [
    "### A note about generators\n",
    "\n",
    "`itertools` produces generators, so once we use them, they're empty e.g."
   ]
  },
  {
   "cell_type": "code",
   "execution_count": 12,
   "id": "e47195f7-d432-4072-9b68-5b408cb6430c",
   "metadata": {},
   "outputs": [
    {
     "name": "stdout",
     "output_type": "stream",
     "text": [
      "[(1, 1), (2, 2), (3, 3), (None, 4), (None, 5)]\n",
      "[]\n"
     ]
    }
   ],
   "source": [
    "zipped_values = itertools.zip_longest(\n",
    "    test_result,\n",
    "    expected_result,\n",
    ")\n",
    "\n",
    "print([*zipped_values])\n",
    "print([*zipped_values]) # this will be empty"
   ]
  },
  {
   "cell_type": "markdown",
   "id": "826191b3-dac9-4149-ba66-0802fdb950e2",
   "metadata": {
    "tags": []
   },
   "source": [
    "### Another real world example"
   ]
  },
  {
   "cell_type": "code",
   "execution_count": 22,
   "id": "ece4eee1-c0da-4f4d-a025-ae84cf4f8c50",
   "metadata": {},
   "outputs": [],
   "source": [
    "top_dict = {\n",
    "\"1\": {\"a\": \"a1\", \"b\": \"b1\"},\n",
    "\"2\": {\"a\": \"a2\", \"b\": \"b2\"},\n",
    "\"3\": {\"c\": \"a3\", \"b\": \"b3\"},\n",
    "}\n",
    "a, b = [[v.get(k) for v in top_dict.values()] for k in \"ab\"]"
   ]
  },
  {
   "cell_type": "code",
   "execution_count": 23,
   "id": "2dc2d9e2-b2e8-47f3-85f0-21b5edc217af",
   "metadata": {},
   "outputs": [
    {
     "data": {
      "text/plain": [
       "(['a1', 'a2', None], ['b1', 'b2', 'b3'])"
      ]
     },
     "execution_count": 23,
     "metadata": {},
     "output_type": "execute_result"
    }
   ],
   "source": [
    "a, b"
   ]
  },
  {
   "cell_type": "code",
   "execution_count": 25,
   "id": "d0413017-2863-4e67-af18-a6a5de7b61be",
   "metadata": {},
   "outputs": [
    {
     "data": {
      "text/plain": [
       "(['a1', 'a2', None], ['b1', 'b2', 'b3'])"
      ]
     },
     "execution_count": 25,
     "metadata": {},
     "output_type": "execute_result"
    }
   ],
   "source": [
    "ab = [d.get(k) for k,d in itertools.product(\"ab\", top_dict.values())]\n",
    "a, b = ab[:len(top_dict)], ab[len(top_dict):] # wanted it in 2 lists\n",
    "a, b"
   ]
  },
  {
   "cell_type": "code",
   "execution_count": null,
   "id": "f9061af6-78a4-4afe-b591-c8faeb98fbf4",
   "metadata": {},
   "outputs": [
    {
     "data": {
      "text/plain": [
       "[('a', 1), ('a', 2), ('b', 1), ('b', 2)]"
      ]
     },
     "execution_count": 143,
     "metadata": {},
     "output_type": "execute_result"
    }
   ],
   "source": [
    "[*itertools.product(\"ab\", [1,2])]"
   ]
  },
  {
   "cell_type": "code",
   "execution_count": 27,
   "id": "507f4503-b59a-448d-9c11-d9913a459d56",
   "metadata": {},
   "outputs": [
    {
     "data": {
      "text/plain": [
       "(('a1', 'a2', None), ('b1', 'b2', 'b3'))"
      ]
     },
     "execution_count": 27,
     "metadata": {},
     "output_type": "execute_result"
    }
   ],
   "source": [
    "# The dark side of itertools!\n",
    "\n",
    "a,b = itertools.zip_longest(\n",
    "    *[\n",
    "        (\n",
    "            d.get(k) for k,d in itertools.product(\"ab\", top_dict.values())\n",
    "        )\n",
    "    ]*len(top_dict)\n",
    ")\n",
    "a,b"
   ]
  },
  {
   "cell_type": "code",
   "execution_count": null,
   "id": "5461c117-a601-402b-8b0f-0f0db8106e54",
   "metadata": {},
   "outputs": [
    {
     "data": {
      "text/plain": [
       "[<generator object <genexpr> at 0x7f4eb578a8d0>,\n",
       " <generator object <genexpr> at 0x7f4eb578a8d0>,\n",
       " <generator object <genexpr> at 0x7f4eb578a8d0>]"
      ]
     },
     "execution_count": 171,
     "metadata": {},
     "output_type": "execute_result"
    }
   ],
   "source": [
    "gens = [(d.get(k) for k,d in itertools.product(\"ab\", top_dict.values()))]*len(top_dict)\n",
    "gens"
   ]
  },
  {
   "cell_type": "code",
   "execution_count": null,
   "id": "b7297cba-9c5a-4c38-8462-74e6e60f1f02",
   "metadata": {},
   "outputs": [
    {
     "data": {
      "text/plain": [
       "True"
      ]
     },
     "execution_count": 172,
     "metadata": {},
     "output_type": "execute_result"
    }
   ],
   "source": [
    "gens[0] is gens[1] is gens[2] # just points to the same generator!"
   ]
  },
  {
   "cell_type": "code",
   "execution_count": null,
   "id": "d3252c71-7dba-4b84-88eb-9d27c4e42bf5",
   "metadata": {},
   "outputs": [
    {
     "data": {
      "text/plain": [
       "('a1', 'a2', None)"
      ]
     },
     "execution_count": 173,
     "metadata": {},
     "output_type": "execute_result"
    }
   ],
   "source": [
    "next(gens[0]), next(gens[1]), next(gens[2])"
   ]
  },
  {
   "cell_type": "code",
   "execution_count": null,
   "id": "109c4645-a9d4-45ad-a289-f0e4c730947c",
   "metadata": {},
   "outputs": [
    {
     "data": {
      "text/plain": [
       "[('b1', 'b2', 'b3')]"
      ]
     },
     "execution_count": 174,
     "metadata": {},
     "output_type": "execute_result"
    }
   ],
   "source": [
    "# could actually just use zip here\n",
    "[*zip(gens[0], gens[1], gens[2])]"
   ]
  },
  {
   "cell_type": "markdown",
   "id": "fb86c6e5-0900-448e-a0f7-9067b7cf14ca",
   "metadata": {},
   "source": [
    "## Other examples"
   ]
  },
  {
   "cell_type": "markdown",
   "id": "198ceefa-9baf-4460-a976-4cccab8765f7",
   "metadata": {},
   "source": [
    "### Count\n",
    "\n",
    "Can be used when the end point isn't known and can use non-integer steps:"
   ]
  },
  {
   "cell_type": "code",
   "execution_count": 14,
   "id": "f94ed30e-5653-4caa-8467-715df0dc09ac",
   "metadata": {},
   "outputs": [
    {
     "data": {
      "text/plain": [
       "[(0, 0),\n",
       " (0.5, 1),\n",
       " (1.0, 2),\n",
       " (1.5, 3),\n",
       " (2.0, 4),\n",
       " (2.5, 5),\n",
       " (3.0, 6),\n",
       " (3.5, 7),\n",
       " (4.0, 8),\n",
       " (4.5, 9),\n",
       " (5.0, 10),\n",
       " (5.5, 11),\n",
       " (6.0, 12),\n",
       " (6.5, 13),\n",
       " (7.0, 14),\n",
       " (7.5, 15),\n",
       " (8.0, 16),\n",
       " (8.5, 17),\n",
       " (9.0, 18),\n",
       " (9.5, 19),\n",
       " (10.0, 20),\n",
       " (10.5, 21),\n",
       " (11.0, 22),\n",
       " (11.5, 23),\n",
       " (12.0, 24),\n",
       " (12.5, 25),\n",
       " (13.0, 26),\n",
       " (13.5, 27),\n",
       " (14.0, 28),\n",
       " (14.5, 29),\n",
       " (15.0, 30),\n",
       " (15.5, 31),\n",
       " (16.0, 32),\n",
       " (16.5, 33),\n",
       " (17.0, 34),\n",
       " (17.5, 35),\n",
       " (18.0, 36),\n",
       " (18.5, 37),\n",
       " (19.0, 38),\n",
       " (19.5, 39),\n",
       " (20.0, 40),\n",
       " (20.5, 41),\n",
       " (21.0, 42),\n",
       " (21.5, 43),\n",
       " (22.0, 44),\n",
       " (22.5, 45),\n",
       " (23.0, 46),\n",
       " (23.5, 47)]"
      ]
     },
     "execution_count": 14,
     "metadata": {},
     "output_type": "execute_result"
    }
   ],
   "source": [
    "import random\n",
    "\n",
    "counter = itertools.count(start=0, step=0.5)\n",
    "\n",
    "# Random length of array\n",
    "[(x,y) for x,y in zip(counter, range(random.randint(0, 100)))]"
   ]
  },
  {
   "cell_type": "markdown",
   "id": "658dd36a-b31a-4271-9d9d-96bf68e0123f",
   "metadata": {},
   "source": [
    "### Cycle\n",
    "\n",
    "Cycles through an iterator, this could even be a generator! (see example below)"
   ]
  },
  {
   "cell_type": "code",
   "execution_count": 19,
   "id": "3438684a-774b-484e-98ac-aa0e19ca2180",
   "metadata": {},
   "outputs": [
    {
     "data": {
      "text/plain": [
       "[(0, 0),\n",
       " (1, 1),\n",
       " (2, 2),\n",
       " (3, 3),\n",
       " (4, 4),\n",
       " (0, 5),\n",
       " (1, 6),\n",
       " (2, 7),\n",
       " (3, 8),\n",
       " (4, 9),\n",
       " (0, 10),\n",
       " (1, 11),\n",
       " (2, 12),\n",
       " (3, 13),\n",
       " (4, 14),\n",
       " (0, 15),\n",
       " (1, 16),\n",
       " (2, 17),\n",
       " (3, 18),\n",
       " (4, 19)]"
      ]
     },
     "execution_count": 19,
     "metadata": {},
     "output_type": "execute_result"
    }
   ],
   "source": [
    "[(x,y) for x,y in zip(itertools.cycle(range(5)), range(20))]"
   ]
  },
  {
   "cell_type": "markdown",
   "id": "43134442-2b49-485c-9b16-df84e9c5ddd1",
   "metadata": {},
   "source": [
    "### Repeat\n",
    "\n",
    "Repeats an object n times (n can be infinite)"
   ]
  },
  {
   "cell_type": "code",
   "execution_count": 23,
   "id": "76e2b5df-ab46-4b72-8eee-3862f9239edb",
   "metadata": {},
   "outputs": [
    {
     "data": {
      "text/plain": [
       "[[0, 1], [0, 1], [0, 1]]"
      ]
     },
     "execution_count": 23,
     "metadata": {},
     "output_type": "execute_result"
    }
   ],
   "source": [
    "[*itertools.repeat([0, 1], 3)]"
   ]
  },
  {
   "cell_type": "markdown",
   "id": "a9b1e85a-2a97-4804-86e7-3dbbcf76bc10",
   "metadata": {},
   "source": [
    "### accumulate\n",
    "\n",
    "Keeps a running value, this could be the total, or the largest etc..."
   ]
  },
  {
   "cell_type": "code",
   "execution_count": 39,
   "id": "c0eb765a-4315-41d0-a4d8-a2a9a9811c70",
   "metadata": {},
   "outputs": [
    {
     "name": "stdout",
     "output_type": "stream",
     "text": [
      "[0, 1, 3, 6, 10]\n",
      "[1, 2, 6, 24, 120]\n",
      "[1, False, False, False, False]\n",
      "[1, 2, 3, 4, 5]\n"
     ]
    }
   ],
   "source": [
    "import operator\n",
    "\n",
    "print([*itertools.accumulate(range(5))])\n",
    "print([*itertools.accumulate(range(1, 6), operator.mul)])\n",
    "print([*itertools.accumulate(range(1, 6), operator.gt)])\n",
    "# Can use any custom functions\n",
    "print([*itertools.accumulate(range(1, 6), max)])"
   ]
  },
  {
   "cell_type": "code",
   "execution_count": 46,
   "id": "b3e3bc5a-ef2d-4892-8fdf-22359a56bf07",
   "metadata": {},
   "outputs": [
    {
     "data": {
      "text/plain": [
       "[1, (1, 2), ((1, 2), 3), (((1, 2), 3), 4), ((((1, 2), 3), 4), 5)]"
      ]
     },
     "execution_count": 46,
     "metadata": {},
     "output_type": "execute_result"
    }
   ],
   "source": [
    "[*itertools.accumulate(range(1, 6), lambda a,b: (a,b))]"
   ]
  },
  {
   "cell_type": "markdown",
   "id": "ba62f881-8590-4d98-85c4-a29b16f98c99",
   "metadata": {},
   "source": [
    "### compress\n",
    "\n",
    "Takes in 2 iterables, the iterable to be compressed and an iterable of booleans of the same length, where the `True` values show which elements to keep."
   ]
  },
  {
   "cell_type": "code",
   "execution_count": null,
   "id": "17922f82-01c4-4906-a0da-e240b2b617e9",
   "metadata": {},
   "outputs": [
    {
     "data": {
      "text/plain": [
       "['b', 'd', 'f', 'h', 'j', 'l', 'n', 'p', 'r', 't', 'v', 'x', 'z']"
      ]
     },
     "execution_count": 64,
     "metadata": {},
     "output_type": "execute_result"
    }
   ],
   "source": [
    "import string\n",
    "\n",
    "compressed = itertools.compress(string.ascii_lowercase, [i%2 for i in range(len(string.ascii_lowercase))])\n",
    "\n",
    "[*compressed] # select letters at odd indices"
   ]
  },
  {
   "cell_type": "markdown",
   "id": "0630d58e-6ab5-46e3-b711-aa552e10ab94",
   "metadata": {},
   "source": [
    "### dropwhile\n",
    "\n",
    "Drops elements of an iterable until a condition is false:"
   ]
  },
  {
   "cell_type": "code",
   "execution_count": 189,
   "id": "e8d1fcff-9dd3-4d5a-92ff-595de81be46a",
   "metadata": {},
   "outputs": [
    {
     "data": {
      "text/plain": [
       "[1, 10, 2, 0, 4, 8, 7, 6, 4, 10, 1, 2, 4, 4, 6, 6, 5, 5, 1, 2]"
      ]
     },
     "execution_count": 189,
     "metadata": {},
     "output_type": "execute_result"
    }
   ],
   "source": [
    "random_numbers = [random.randint(0, 10) for _ in range(20)]\n",
    "random_numbers"
   ]
  },
  {
   "cell_type": "code",
   "execution_count": 190,
   "id": "7556b7b9-4055-40ec-bac2-bc3917cece46",
   "metadata": {},
   "outputs": [
    {
     "data": {
      "text/plain": [
       "[10, 2, 0, 4, 8, 7, 6, 4, 10, 1, 2, 4, 4, 6, 6, 5, 5, 1, 2]"
      ]
     },
     "execution_count": 190,
     "metadata": {},
     "output_type": "execute_result"
    }
   ],
   "source": [
    "[*itertools.dropwhile(lambda x: x<9, random_numbers)]"
   ]
  },
  {
   "cell_type": "code",
   "execution_count": 193,
   "id": "b43602b4-b94f-4862-b5d6-a98cd57c2fa1",
   "metadata": {},
   "outputs": [
    {
     "data": {
      "text/plain": [
       "[10, 10]"
      ]
     },
     "execution_count": 193,
     "metadata": {},
     "output_type": "execute_result"
    }
   ],
   "source": [
    "# try it again with sorted values\n",
    "[*itertools.dropwhile(lambda x: x<9, sorted(random_numbers))]"
   ]
  },
  {
   "cell_type": "markdown",
   "id": "53abe052-325d-42af-8103-dfb1b3fb7fa8",
   "metadata": {},
   "source": [
    "### filterfalse\n",
    "\n",
    "filters a list for when a condition is false:"
   ]
  },
  {
   "cell_type": "code",
   "execution_count": 200,
   "id": "e5f670f8-e108-456e-9c76-60de667bb6a1",
   "metadata": {},
   "outputs": [
    {
     "data": {
      "text/plain": [
       "['m', 'n', 'o', 'p', 'q', 'r', 's', 't', 'u', 'v', 'w', 'x', 'y', 'z']"
      ]
     },
     "execution_count": 200,
     "metadata": {},
     "output_type": "execute_result"
    }
   ],
   "source": [
    "[*itertools.filterfalse(lambda x: x<\"m\", string.ascii_lowercase)]"
   ]
  },
  {
   "cell_type": "code",
   "execution_count": 205,
   "id": "1c461b0c-1271-45f3-870a-a4b66e9829af",
   "metadata": {},
   "outputs": [
    {
     "data": {
      "text/plain": [
       "['a', 'b', 'c', 'd', 'e', 'f', 'g', 'h', 'i', 'j', 'k', 'l']"
      ]
     },
     "execution_count": 205,
     "metadata": {},
     "output_type": "execute_result"
    }
   ],
   "source": [
    "# the opposite, we could just use this with a not, or in this case '>='\n",
    "[*filter(lambda x: x<\"m\", string.ascii_lowercase)]"
   ]
  },
  {
   "cell_type": "markdown",
   "id": "72bb31fc-c5bd-4de5-bcbc-0f4d56f34705",
   "metadata": {},
   "source": [
    "### grouby\n",
    "\n",
    "Groups elements of an iterable together by a key, the iterator must be sorted first though!"
   ]
  },
  {
   "cell_type": "code",
   "execution_count": 248,
   "id": "d5965ae6-80de-455f-8a9e-57f02e39431b",
   "metadata": {},
   "outputs": [
    {
     "data": {
      "text/plain": [
       "[('a', 0),\n",
       " ('a', 0),\n",
       " ('a', 0),\n",
       " ('b', 0),\n",
       " ('b', 0),\n",
       " ('b', 0),\n",
       " ('c', 0),\n",
       " ('c', 0),\n",
       " ('c', 0),\n",
       " ('a', 2),\n",
       " ('a', 2),\n",
       " ('b', 2),\n",
       " ('b', 2),\n",
       " ('c', 2),\n",
       " ('c', 2),\n",
       " ('a', 3),\n",
       " ('b', 3),\n",
       " ('c', 3),\n",
       " ('a', 5),\n",
       " ('a', 5),\n",
       " ('a', 5),\n",
       " ('a', 5),\n",
       " ('a', 5),\n",
       " ('a', 5),\n",
       " ('b', 5),\n",
       " ('b', 5),\n",
       " ('b', 5),\n",
       " ('b', 5),\n",
       " ('b', 5),\n",
       " ('b', 5),\n",
       " ('c', 5),\n",
       " ('c', 5),\n",
       " ('c', 5),\n",
       " ('c', 5),\n",
       " ('c', 5),\n",
       " ('c', 5),\n",
       " ('a', 6),\n",
       " ('a', 6),\n",
       " ('b', 6),\n",
       " ('b', 6),\n",
       " ('c', 6),\n",
       " ('c', 6),\n",
       " ('a', 7),\n",
       " ('a', 7),\n",
       " ('b', 7),\n",
       " ('b', 7),\n",
       " ('c', 7),\n",
       " ('c', 7),\n",
       " ('a', 8),\n",
       " ('b', 8),\n",
       " ('c', 8),\n",
       " ('a', 9),\n",
       " ('a', 9),\n",
       " ('b', 9),\n",
       " ('b', 9),\n",
       " ('c', 9),\n",
       " ('c', 9),\n",
       " ('a', 10),\n",
       " ('b', 10),\n",
       " ('c', 10)]"
      ]
     },
     "execution_count": 248,
     "metadata": {},
     "output_type": "execute_result"
    }
   ],
   "source": [
    "# creates an iterator that yields tuples like: (\"a\", 1) in random order\n",
    "tuples = itertools.product(\"abc\", [random.randint(0, 10) for _ in range(20)])\n",
    "\n",
    "# sort the tuples by the random number!\n",
    "sort_tuples = lambda x: x[1]\n",
    "\n",
    "sorted_tuples = sorted(tuples, key=sort_tuples) # Not a generator\n",
    "sorted_tuples"
   ]
  },
  {
   "cell_type": "code",
   "execution_count": 258,
   "id": "f923ff48-906d-47cc-b4d0-6a684e0d2e09",
   "metadata": {},
   "outputs": [
    {
     "name": "stdout",
     "output_type": "stream",
     "text": [
      "0 [('a', 0), ('a', 0), ('a', 0), ('b', 0), ('b', 0), ('b', 0), ('c', 0), ('c', 0), ('c', 0)]\n",
      "2 [('a', 2), ('a', 2), ('b', 2), ('b', 2), ('c', 2), ('c', 2)]\n",
      "3 [('a', 3), ('b', 3), ('c', 3)]\n",
      "5 [('a', 5), ('a', 5), ('a', 5), ('a', 5), ('a', 5), ('a', 5), ('b', 5), ('b', 5), ('b', 5), ('b', 5), ('b', 5), ('b', 5), ('c', 5), ('c', 5), ('c', 5), ('c', 5), ('c', 5), ('c', 5)]\n",
      "6 [('a', 6), ('a', 6), ('b', 6), ('b', 6), ('c', 6), ('c', 6)]\n",
      "7 [('a', 7), ('a', 7), ('b', 7), ('b', 7), ('c', 7), ('c', 7)]\n",
      "8 [('a', 8), ('b', 8), ('c', 8)]\n",
      "9 [('a', 9), ('a', 9), ('b', 9), ('b', 9), ('c', 9), ('c', 9)]\n",
      "10 [('a', 10), ('b', 10), ('c', 10)]\n"
     ]
    }
   ],
   "source": [
    "# returns a generator containing tuples of (key_value, generator_of_group)\n",
    "groups = itertools.groupby(sorted_tuples, key=sort_tuples)\n",
    "\n",
    "for kv, g in groups:\n",
    "    print(kv, [*g])"
   ]
  },
  {
   "cell_type": "code",
   "execution_count": 269,
   "id": "1527dd57-5790-486a-b45e-a1c153cc5b7b",
   "metadata": {},
   "outputs": [
    {
     "name": "stdout",
     "output_type": "stream",
     "text": [
      "(0, 'a') [('a', 0), ('a', 0), ('a', 0)]\n",
      "(0, 'b') [('b', 0), ('b', 0), ('b', 0)]\n",
      "(0, 'c') [('c', 0), ('c', 0), ('c', 0)]\n",
      "(2, 'a') [('a', 2), ('a', 2)]\n",
      "(2, 'b') [('b', 2), ('b', 2)]\n",
      "(2, 'c') [('c', 2), ('c', 2)]\n",
      "(3, 'a') [('a', 3)]\n",
      "(3, 'b') [('b', 3)]\n",
      "(3, 'c') [('c', 3)]\n",
      "(5, 'a') [('a', 5), ('a', 5), ('a', 5), ('a', 5), ('a', 5), ('a', 5)]\n",
      "(5, 'b') [('b', 5), ('b', 5), ('b', 5), ('b', 5), ('b', 5), ('b', 5)]\n",
      "(5, 'c') [('c', 5), ('c', 5), ('c', 5), ('c', 5), ('c', 5), ('c', 5)]\n",
      "(6, 'a') [('a', 6), ('a', 6)]\n",
      "(6, 'b') [('b', 6), ('b', 6)]\n",
      "(6, 'c') [('c', 6), ('c', 6)]\n",
      "(7, 'a') [('a', 7), ('a', 7)]\n",
      "(7, 'b') [('b', 7), ('b', 7)]\n",
      "(7, 'c') [('c', 7), ('c', 7)]\n",
      "(8, 'a') [('a', 8)]\n",
      "(8, 'b') [('b', 8)]\n",
      "(8, 'c') [('c', 8)]\n",
      "(9, 'a') [('a', 9), ('a', 9)]\n",
      "(9, 'b') [('b', 9), ('b', 9)]\n",
      "(9, 'c') [('c', 9), ('c', 9)]\n",
      "(10, 'a') [('a', 10)]\n",
      "(10, 'b') [('b', 10)]\n",
      "(10, 'c') [('c', 10)]\n"
     ]
    }
   ],
   "source": [
    "# we could specify multiple sort keys e.g.\n",
    "\n",
    "sort_tuples2 = lambda x: (x[1], x[0])\n",
    "for kv, g in itertools.groupby(sorted(sorted_tuples, key=sort_tuples2), key=sort_tuples2):\n",
    "    print(kv, [*g])"
   ]
  },
  {
   "cell_type": "markdown",
   "id": "4974fb23-7c36-4963-b5d7-e992d56e987d",
   "metadata": {},
   "source": [
    "### islice\n",
    "\n",
    "Slices an iterable"
   ]
  },
  {
   "cell_type": "code",
   "execution_count": 280,
   "id": "8dd4dfd3-0d35-4dfd-955d-24bad7738f91",
   "metadata": {},
   "outputs": [
    {
     "data": {
      "text/plain": [
       "[4, 6, 8, 10, 12, 14, 16, 18]"
      ]
     },
     "execution_count": 280,
     "metadata": {},
     "output_type": "execute_result"
    }
   ],
   "source": [
    "[*itertools.islice(range(20), 4, 20, 2)]"
   ]
  },
  {
   "cell_type": "code",
   "execution_count": 279,
   "id": "f647fe82-626d-4bba-9b59-73da2bef6275",
   "metadata": {},
   "outputs": [
    {
     "data": {
      "text/plain": [
       "[4, 6, 8, 10, 12, 14, 16, 18]"
      ]
     },
     "execution_count": 279,
     "metadata": {},
     "output_type": "execute_result"
    }
   ],
   "source": [
    "# can achieve the same thing using the `slice` keyword:\n",
    "[*range(20)[slice(4, 20, 2)]]"
   ]
  },
  {
   "cell_type": "code",
   "execution_count": 283,
   "id": "19b7dd74-3bcf-444d-b077-a5f4f9fa057c",
   "metadata": {},
   "outputs": [
    {
     "data": {
      "text/plain": [
       "[16, 18]"
      ]
     },
     "execution_count": 283,
     "metadata": {},
     "output_type": "execute_result"
    }
   ],
   "source": [
    "# slice also supports negative indices, whereas islice does not\n",
    "[*range(20)[slice(-4, 20, 2)]]"
   ]
  },
  {
   "cell_type": "code",
   "execution_count": 312,
   "id": "e4908e24-fb5b-4910-8504-cad5772dc208",
   "metadata": {},
   "outputs": [
    {
     "name": "stdout",
     "output_type": "stream",
     "text": [
      "[0, 1, 2, 3, 4, 5, 6, 7, 8, 9, 10, 11, 12, 13, 14, 15, 16, 17, 18, 19]\n",
      "[5, 10, 15]\n"
     ]
    },
    {
     "data": {
      "text/plain": [
       "<itertools.islice at 0x7f4eb4c40a70>"
      ]
     },
     "execution_count": 312,
     "metadata": {},
     "output_type": "execute_result"
    }
   ],
   "source": [
    "# So why use islice?\n",
    "list_vals = [*range(20)]\n",
    "print(list_vals)\n",
    "\n",
    "# slice returns a new list, islice returns a generator!\n",
    "print(list_vals[slice(5, 20, 5)])\n",
    "itertools.islice(list_vals, 5, 20, 5)"
   ]
  },
  {
   "cell_type": "markdown",
   "id": "43dd86b8-90b6-4d4c-9c84-e6d4622d20f1",
   "metadata": {},
   "source": [
    "### starmap\n",
    "\n",
    "maps a function to an iterable, used when the values are alreday grouped together into e.g. tuples"
   ]
  },
  {
   "cell_type": "code",
   "execution_count": 324,
   "id": "3634104c-05b5-46c1-8683-96048c3ccce3",
   "metadata": {},
   "outputs": [
    {
     "data": {
      "text/plain": [
       "[(0, 1, 2),\n",
       " (1, 2, 3),\n",
       " (2, 3, 4),\n",
       " (3, 4, 5),\n",
       " (4, 5, 6),\n",
       " (5, 6, 7),\n",
       " (6, 7, 8),\n",
       " (7, 8, 9),\n",
       " (8, 9)]"
      ]
     },
     "execution_count": 324,
     "metadata": {},
     "output_type": "execute_result"
    }
   ],
   "source": [
    "x = [*range(10)]\n",
    "vals = [(x[i], x[i+1], x[i+2]) for i in range(len(x)-2)]\n",
    "vals += [(8, 9)]\n",
    "vals"
   ]
  },
  {
   "cell_type": "code",
   "execution_count": 325,
   "id": "657602d1-0b0e-47e9-a27b-b3e620655952",
   "metadata": {},
   "outputs": [],
   "source": [
    "def starmap_test(*args):\n",
    "    if len(args) ==3:\n",
    "        return (args[0]+args[1])*args[2]\n",
    "    else:\n",
    "        return args[0]*args[1]"
   ]
  },
  {
   "cell_type": "code",
   "execution_count": 326,
   "id": "8fc755bc-9799-46f5-8a1d-f58f74cc6b87",
   "metadata": {},
   "outputs": [
    {
     "data": {
      "text/plain": [
       "[2, 9, 20, 35, 54, 77, 104, 135, 72]"
      ]
     },
     "execution_count": 326,
     "metadata": {},
     "output_type": "execute_result"
    }
   ],
   "source": [
    "[*itertools.starmap(starmap_test, vals)]"
   ]
  },
  {
   "cell_type": "code",
   "execution_count": 335,
   "id": "b667dc0a-afcf-4c78-aac5-02ba6c05a1eb",
   "metadata": {},
   "outputs": [
    {
     "ename": "IndexError",
     "evalue": "tuple index out of range",
     "output_type": "error",
     "traceback": [
      "\u001b[0;31m---------------------------------------------------------------------------\u001b[0m",
      "\u001b[0;31mIndexError\u001b[0m                                Traceback (most recent call last)",
      "\u001b[0;32m/var/tmp/ipykernel_124849/690886986.py\u001b[0m in \u001b[0;36m<module>\u001b[0;34m\u001b[0m\n\u001b[1;32m      1\u001b[0m \u001b[0;31m# map doesn't unpack, so it sees a tuple of a tuple given to it\u001b[0m\u001b[0;34m\u001b[0m\u001b[0;34m\u001b[0m\u001b[0;34m\u001b[0m\u001b[0m\n\u001b[0;32m----> 2\u001b[0;31m \u001b[0;34m[\u001b[0m\u001b[0;34m*\u001b[0m\u001b[0mmap\u001b[0m\u001b[0;34m(\u001b[0m\u001b[0mstarmap_test\u001b[0m\u001b[0;34m,\u001b[0m \u001b[0mvals\u001b[0m\u001b[0;34m)\u001b[0m\u001b[0;34m]\u001b[0m\u001b[0;34m\u001b[0m\u001b[0;34m\u001b[0m\u001b[0m\n\u001b[0m",
      "\u001b[0;32m/var/tmp/ipykernel_124849/947694885.py\u001b[0m in \u001b[0;36mstarmap_test\u001b[0;34m(*args)\u001b[0m\n\u001b[1;32m      3\u001b[0m         \u001b[0;32mreturn\u001b[0m \u001b[0;34m(\u001b[0m\u001b[0margs\u001b[0m\u001b[0;34m[\u001b[0m\u001b[0;36m0\u001b[0m\u001b[0;34m]\u001b[0m\u001b[0;34m+\u001b[0m\u001b[0margs\u001b[0m\u001b[0;34m[\u001b[0m\u001b[0;36m1\u001b[0m\u001b[0;34m]\u001b[0m\u001b[0;34m)\u001b[0m\u001b[0;34m*\u001b[0m\u001b[0margs\u001b[0m\u001b[0;34m[\u001b[0m\u001b[0;36m2\u001b[0m\u001b[0;34m]\u001b[0m\u001b[0;34m\u001b[0m\u001b[0;34m\u001b[0m\u001b[0m\n\u001b[1;32m      4\u001b[0m     \u001b[0;32melse\u001b[0m\u001b[0;34m:\u001b[0m\u001b[0;34m\u001b[0m\u001b[0;34m\u001b[0m\u001b[0m\n\u001b[0;32m----> 5\u001b[0;31m         \u001b[0;32mreturn\u001b[0m \u001b[0margs\u001b[0m\u001b[0;34m[\u001b[0m\u001b[0;36m0\u001b[0m\u001b[0;34m]\u001b[0m\u001b[0;34m*\u001b[0m\u001b[0margs\u001b[0m\u001b[0;34m[\u001b[0m\u001b[0;36m1\u001b[0m\u001b[0;34m]\u001b[0m\u001b[0;34m\u001b[0m\u001b[0;34m\u001b[0m\u001b[0m\n\u001b[0m",
      "\u001b[0;31mIndexError\u001b[0m: tuple index out of range"
     ]
    }
   ],
   "source": [
    "# map doesn't unpack, so it sees a tuple of a tuple given to it\n",
    "[*map(starmap_test, vals)]"
   ]
  },
  {
   "cell_type": "code",
   "execution_count": 339,
   "id": "621a30f5-868e-4b24-b940-98b6e72d19a3",
   "metadata": {},
   "outputs": [
    {
     "name": "stdout",
     "output_type": "stream",
     "text": [
      "((0, 1, 2),) 1\n",
      "((1, 2, 3),) 1\n",
      "((2, 3, 4),) 1\n",
      "((3, 4, 5),) 1\n",
      "((4, 5, 6),) 1\n",
      "((5, 6, 7),) 1\n",
      "((6, 7, 8),) 1\n",
      "((7, 8, 9),) 1\n",
      "((8, 9),) 1\n"
     ]
    }
   ],
   "source": [
    "def map_test(*args):\n",
    "    print(args, len(args))\n",
    "\n",
    "for x in map(map_test, vals):\n",
    "    pass"
   ]
  },
  {
   "cell_type": "code",
   "execution_count": 341,
   "id": "b1c1f6dd-530e-4f45-b4a7-63d5eb25d019",
   "metadata": {},
   "outputs": [
    {
     "data": {
      "text/plain": [
       "[2, 9, 20, 35, 54, 77, 104, 135, 72]"
      ]
     },
     "execution_count": 341,
     "metadata": {},
     "output_type": "execute_result"
    }
   ],
   "source": [
    "# We can achieve the same thing here with map by not unpacking the tuple:\n",
    "def map_test2(args):\n",
    "    if len(args) ==3:\n",
    "        return (args[0]+args[1])*args[2]\n",
    "    else:\n",
    "        return args[0]*args[1]\n",
    "    \n",
    "[*map(map_test2, vals)]"
   ]
  },
  {
   "cell_type": "markdown",
   "id": "512a956c-9fc6-4fdc-899d-4ee4a24cbbbb",
   "metadata": {},
   "source": [
    "### takewhile\n",
    "\n",
    "Roughly the opposite of `itertools.dropwhile`"
   ]
  },
  {
   "cell_type": "code",
   "execution_count": 381,
   "id": "04936509-3d27-4f52-86e1-b1d5b3d7b784",
   "metadata": {},
   "outputs": [
    {
     "data": {
      "text/plain": [
       "[8, 5, 6, 2, 10, 8, 5, 8, 8, 9, 8, 1, 8, 3, 7, 6, 2, 1, 1, 5]"
      ]
     },
     "execution_count": 381,
     "metadata": {},
     "output_type": "execute_result"
    }
   ],
   "source": [
    "random_numbers = [random.randint(0, 10) for _ in range(20)]\n",
    "random_numbers"
   ]
  },
  {
   "cell_type": "code",
   "execution_count": 383,
   "id": "cacd7a04-8411-4c2e-91d3-d65f846f8bf3",
   "metadata": {},
   "outputs": [
    {
     "data": {
      "text/plain": [
       "([8, 5, 6, 2], [10, 8, 5, 8, 8, 9, 8, 1, 8, 3, 7, 6, 2, 1, 1, 5])"
      ]
     },
     "execution_count": 383,
     "metadata": {},
     "output_type": "execute_result"
    }
   ],
   "source": [
    "[*itertools.takewhile(lambda x: x<9, random_numbers)], [*itertools.dropwhile(lambda x: x<9, random_numbers)]"
   ]
  },
  {
   "cell_type": "markdown",
   "id": "49d98b52-d874-40c7-8f06-c0b65c61086d",
   "metadata": {},
   "source": [
    "### tee\n",
    "\n",
    "As we've seen throughout this notebook, once a generator is used, it returns an empty object.\n",
    "\n",
    "`tee` allows us to 'copy' the generator for multiple use!"
   ]
  },
  {
   "cell_type": "code",
   "execution_count": 373,
   "id": "9557bc66-524d-4765-a127-480b56f58362",
   "metadata": {},
   "outputs": [
    {
     "name": "stdout",
     "output_type": "stream",
     "text": [
      "[(0, 'a'), (1, 'b'), (2, 'c'), (3, 'd'), (4, 'e'), (5, 'f'), (6, 'g'), (7, 'h'), (8, 'i'), (9, 'j')]\n"
     ]
    },
    {
     "data": {
      "text/plain": [
       "[]"
      ]
     },
     "execution_count": 373,
     "metadata": {},
     "output_type": "execute_result"
    }
   ],
   "source": [
    "vals = zip(range(10), string.ascii_lowercase)\n",
    "print([*vals])\n",
    "[*vals]"
   ]
  },
  {
   "cell_type": "code",
   "execution_count": 378,
   "id": "b1f36c0f-a00b-4d4c-a96f-3d60786f44a1",
   "metadata": {},
   "outputs": [
    {
     "data": {
      "text/plain": [
       "(<itertools._tee at 0x7f4eb4cfae10>, <itertools._tee at 0x7f4eb4cfaf50>)"
      ]
     },
     "execution_count": 378,
     "metadata": {},
     "output_type": "execute_result"
    }
   ],
   "source": [
    "vals = zip(range(10), string.ascii_lowercase)\n",
    "\n",
    "dup_vals = itertools.tee(vals, 2)\n",
    "dup_vals"
   ]
  },
  {
   "cell_type": "code",
   "execution_count": 379,
   "id": "88a29056-bf08-4d9c-8cab-07bc6adad928",
   "metadata": {},
   "outputs": [
    {
     "name": "stdout",
     "output_type": "stream",
     "text": [
      "(0, 'a')\n",
      "[(1, 'b'), (2, 'c'), (3, 'd'), (4, 'e'), (5, 'f'), (6, 'g'), (7, 'h'), (8, 'i'), (9, 'j')]\n",
      "[(0, 'a'), (1, 'b'), (2, 'c'), (3, 'd'), (4, 'e'), (5, 'f'), (6, 'g'), (7, 'h'), (8, 'i'), (9, 'j')]\n"
     ]
    }
   ],
   "source": [
    "print(next(dup_vals[0])) # lets remove the first element of the first generator\n",
    "\n",
    "print([*dup_vals[0]])\n",
    "print([*dup_vals[1]])"
   ]
  },
  {
   "cell_type": "markdown",
   "id": "60e47b0b-cdd0-4e9b-b18e-6dc6cd86f4e0",
   "metadata": {},
   "source": [
    "Note: There are a few caveats with tee, it's best to read through the documentation on https://docs.python.org/3.7/library/itertools.html#itertools.tee"
   ]
  },
  {
   "cell_type": "markdown",
   "id": "9196b3d9-53b4-4a82-8c3b-2252a64237a2",
   "metadata": {},
   "source": [
    "### permutations\n",
    "\n",
    "Returns all the permutations of an iterable with the length `r`:"
   ]
  },
  {
   "cell_type": "code",
   "execution_count": 391,
   "id": "5e20e4e5-3915-4458-a473-3765ebf13030",
   "metadata": {},
   "outputs": [
    {
     "data": {
      "text/plain": [
       "[('a', 'b', 'c'),\n",
       " ('a', 'c', 'b'),\n",
       " ('b', 'a', 'c'),\n",
       " ('b', 'c', 'a'),\n",
       " ('c', 'a', 'b'),\n",
       " ('c', 'b', 'a')]"
      ]
     },
     "execution_count": 391,
     "metadata": {},
     "output_type": "execute_result"
    }
   ],
   "source": [
    "[*itertools.permutations(\"abc\", r=3)]"
   ]
  },
  {
   "cell_type": "markdown",
   "id": "62fab621-2176-45dd-a487-c9d5b7b54a68",
   "metadata": {},
   "source": [
    "### combinations\n",
    "\n",
    "Finds all the combinations of an iterable with length `r`, where no element is repeated!"
   ]
  },
  {
   "cell_type": "code",
   "execution_count": 401,
   "id": "705bd5fd-a740-4d83-8255-f655605c880f",
   "metadata": {},
   "outputs": [
    {
     "data": {
      "text/plain": [
       "[('a', 'b', 'c')]"
      ]
     },
     "execution_count": 401,
     "metadata": {},
     "output_type": "execute_result"
    }
   ],
   "source": [
    "[*itertools.combinations(\"abc\", r=3)]"
   ]
  },
  {
   "cell_type": "markdown",
   "id": "c52b6a45-41c1-4dc5-bdef-6d1532614db4",
   "metadata": {},
   "source": [
    "### combinations_with_replacement\n",
    "\n",
    "Finds all the combinations of an iterable with length `r`, where every element can be repeated:"
   ]
  },
  {
   "cell_type": "code",
   "execution_count": 402,
   "id": "92167e94-1107-4920-b845-bb99ce24c057",
   "metadata": {},
   "outputs": [
    {
     "data": {
      "text/plain": [
       "[('a', 'a', 'a'),\n",
       " ('a', 'a', 'b'),\n",
       " ('a', 'a', 'c'),\n",
       " ('a', 'b', 'b'),\n",
       " ('a', 'b', 'c'),\n",
       " ('a', 'c', 'c'),\n",
       " ('b', 'b', 'b'),\n",
       " ('b', 'b', 'c'),\n",
       " ('b', 'c', 'c'),\n",
       " ('c', 'c', 'c')]"
      ]
     },
     "execution_count": 402,
     "metadata": {},
     "output_type": "execute_result"
    }
   ],
   "source": [
    "[*itertools.combinations_with_replacement(\"abc\", r=3)]"
   ]
  },
  {
   "cell_type": "markdown",
   "id": "2d10707b-ef2c-4143-ab47-11ac48f15a2d",
   "metadata": {},
   "source": [
    "## Conclusion\n",
    "\n",
    "`itertools` can be really powerful, especially when combined together. But remember, code readability is important! If you find that a nested `for` loop is more readable, then use it! Hopefully seeing these examples gives you more options to use the correct tool for the job.\n",
    "\n",
    "For some practice using `itertools`, see https://www.w3resource.com/python-exercises/itertools/index.php"
   ]
  },
  {
   "cell_type": "code",
   "execution_count": null,
   "id": "43631ca0-6427-43de-b73a-8c2416fce7f0",
   "metadata": {},
   "outputs": [],
   "source": []
  }
 ],
 "metadata": {
  "kernelspec": {
   "display_name": "Python 3",
   "language": "python",
   "name": "python3"
  },
  "language_info": {
   "codemirror_mode": {
    "name": "ipython",
    "version": 3
   },
   "file_extension": ".py",
   "mimetype": "text/x-python",
   "name": "python",
   "nbconvert_exporter": "python",
   "pygments_lexer": "ipython3",
   "version": "3.7.12"
  }
 },
 "nbformat": 4,
 "nbformat_minor": 5
}
